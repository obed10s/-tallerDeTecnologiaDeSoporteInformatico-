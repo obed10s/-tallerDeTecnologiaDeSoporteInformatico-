{
 "cells": [
  {
   "cell_type": "code",
   "execution_count": 4,
   "metadata": {
    "collapsed": true
   },
   "outputs": [
    {
     "name": "stdout",
     "output_type": "stream",
     "text": [
      "algooo\n"
     ]
    }
   ],
   "source": [
    "import pandas as pd\n",
    "\n",
    "\n",
    "def pasarMinusculas(valor):\n",
    "    if type(valor) == str:\n",
    "        return valor.lower()\n",
    "    else:\n",
    "        return valor\n",
    "\n",
    "\n",
    "def soloNumero(valor):\n",
    "    valor = str(valor)\n",
    "    for caracter in valor:\n",
    "        if not caracter.isnumeric():\n",
    "            valor = valor.replace(caracter, \"\")\n",
    "    return valor\n",
    "\n",
    "\n",
    "def generalizarSexos(valor):\n",
    "    valor = str(valor)\n",
    "    valor.lower()\n",
    "    if valor.startswith('m') or valor.startswith('h'):\n",
    "        valor = valor[0]\n",
    "    elif valor.startswith('no binarie'):\n",
    "        valor = 'nb'\n",
    "    else:\n",
    "        valor = None  # no se si esto es asi\n",
    "    return valor\n",
    "\n",
    "\n",
    "def arreglarLU(valor):\n",
    "    valor = str(valor)\n",
    "    esPrimeraParte = True\n",
    "    primeraParte = \"\"\n",
    "    segundaParte = \"\"\n",
    "    for caracter in valor:\n",
    "        if caracter.isnumeric() and esPrimeraParte:\n",
    "            primeraParte += caracter\n",
    "        elif caracter.isnumeric() and not esPrimeraParte:\n",
    "            segundaParte += caracter\n",
    "        else:\n",
    "            esPrimeraParte = False\n",
    "    valor = primeraParte + \"/\" + segundaParte\n",
    "    return valor\n",
    "\n",
    "\n",
    "def generalizarObservacion(valor):\n",
    "    pass\n",
    "\n",
    "\n",
    "print(\"algooo\")\n",
    "data = pd.read_csv(\"../data/datos.csv\", sep=',', skipinitialspace=True, engine='python')\n",
    "#  pasamos todo el dataframe a minusculas\n",
    "data = data.applymap(pasarMinusculas)\n",
    "#  pasamos los promedios a float\n",
    "data['Promedio'] = data['Promedio'].apply(float)\n",
    "#  sacamos letras de Peso\n",
    "data[\"Peso\"] = data[\"Peso\"].apply(soloNumero)\n",
    "#  sacamos letras de Altura\n",
    "data[\"Altura\"] = data[\"Altura\"].apply(soloNumero)\n",
    "#  arreglamos el formato de LU\n",
    "data[\"LU\"] = data[\"LU\"].apply(arreglarLU)\n",
    "#  ponemos formato especifico al sexo\n",
    "data[\"Sexo\"] = data[\"Sexo\"].apply(generalizarSexos)\n",
    "#  borramos las filas con valores vacios\n",
    "data = data.dropna()\n",
    "data.to_csv('../data/nuevo.csv')"
   ]
  }
 ],
 "metadata": {
  "kernelspec": {
   "display_name": "Python 3",
   "language": "python",
   "name": "python3"
  },
  "language_info": {
   "codemirror_mode": {
    "name": "ipython",
    "version": 2
   },
   "file_extension": ".py",
   "mimetype": "text/x-python",
   "name": "python",
   "nbconvert_exporter": "python",
   "pygments_lexer": "ipython2",
   "version": "2.7.6"
  }
 },
 "nbformat": 4,
 "nbformat_minor": 0
}