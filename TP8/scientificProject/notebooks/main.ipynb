{
 "cells": [
  {
   "cell_type": "code",
   "execution_count": null,
   "metadata": {
    "collapsed": true
   },
   "outputs": [],
   "source": [
    "\n",
    "import requests\n",
    "from bs4 import BeautifulSoup\n",
    "import pandas as pd\n",
    "\n",
    "\n",
    "def arreglarPorcentaje(valor):\n",
    "    for i in range(len(valor[\"Precio anterior\"])):\n",
    "        if valor[\"Precio anterior\"][i] == '':\n",
    "            valor[\"Porcentaje\"].insert(i, \"0%\")\n",
    "    return valor[\"Porcentaje\"]\n",
    "\n",
    "def obtenerTexto(valor):\n",
    "    a = []\n",
    "    for i in valor:\n",
    "        a.append(i.getText())\n",
    "    return a\n",
    "\n",
    "\n",
    "if __name__ == '__main__':\n",
    "    diccionario={}\n",
    "    pagina = requests.get(\"https://www.mercadolibre.com.ar/ofertas#c_id=/home/promotions-recommendations/element&c_uid=5a54f368-27bd-4ba2-9392-0dfe4d2cc8c9\")\n",
    "    objeto_sopa = BeautifulSoup(pagina.content, 'html.parser')\n",
    "    nombres = objeto_sopa.find_all('p', class_='promotion-item__title')\n",
    "    precios = objeto_sopa.find_all('span', class_='promotion-item__price')\n",
    "    porcentaje = objeto_sopa.find_all('span', class_='promotion-item__discount')\n",
    "    precioAnterior = objeto_sopa.find_all('span', class_='promotion-item__oldprice')\n",
    "    diccionario[\"Producto\"] = obtenerTexto(nombres)\n",
    "    diccionario[\"Precio\"] = obtenerTexto(precios)\n",
    "    diccionario[\"Porcentaje\"] = obtenerTexto(porcentaje)\n",
    "    diccionario[\"Precio anterior\"] = obtenerTexto(precioAnterior)\n",
    "    diccionario[\"Porcentaje\"] = arreglarPorcentaje(diccionario)\n",
    "    diccionario[\"Producto\"].pop()\n",
    "    diccionario[\"Precio\"].pop()\n",
    "    diccionario[\"Precio anterior\"].pop()\n",
    "    data = pd.DataFrame(diccionario)\n",
    "    data.to_csv(\"../data/ofertasMeradoLibre.csv\")\n"
   ]
  }
 ],
 "metadata": {
  "kernelspec": {
   "display_name": "Python 3",
   "language": "python",
   "name": "python3"
  },
  "language_info": {
   "codemirror_mode": {
    "name": "ipython",
    "version": 2
   },
   "file_extension": ".py",
   "mimetype": "text/x-python",
   "name": "python",
   "nbconvert_exporter": "python",
   "pygments_lexer": "ipython2",
   "version": "2.7.6"
  }
 },
 "nbformat": 4,
 "nbformat_minor": 0
}