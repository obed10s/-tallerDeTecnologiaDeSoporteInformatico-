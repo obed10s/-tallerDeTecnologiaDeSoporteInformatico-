{
 "cells": [
  {
   "cell_type": "code",
   "execution_count": 6,
   "outputs": [
    {
     "ename": "ValueError",
     "evalue": "shape mismatch: objects cannot be broadcast to a single shape",
     "output_type": "error",
     "traceback": [
      "\u001B[1;31m---------------------------------------------------------------------------\u001B[0m",
      "\u001B[1;31mValueError\u001B[0m                                Traceback (most recent call last)",
      "\u001B[1;32m<ipython-input-6-f4724e33c1d6>\u001B[0m in \u001B[0;36m<module>\u001B[1;34m\u001B[0m\n\u001B[0;32m      9\u001B[0m \u001B[0my\u001B[0m\u001B[1;33m.\u001B[0m\u001B[0mreverse\u001B[0m\u001B[1;33m(\u001B[0m\u001B[1;33m)\u001B[0m \u001B[1;31m# muestre de menor a mayor\u001B[0m\u001B[1;33m\u001B[0m\u001B[1;33m\u001B[0m\u001B[0m\n\u001B[0;32m     10\u001B[0m \u001B[1;33m\u001B[0m\u001B[0m\n\u001B[1;32m---> 11\u001B[1;33m \u001B[0mplt1\u001B[0m\u001B[1;33m.\u001B[0m\u001B[0mbar\u001B[0m\u001B[1;33m(\u001B[0m\u001B[0mx\u001B[0m\u001B[1;33m,\u001B[0m\u001B[0my\u001B[0m\u001B[1;33m)\u001B[0m\u001B[1;33m\u001B[0m\u001B[1;33m\u001B[0m\u001B[0m\n\u001B[0m\u001B[0;32m     12\u001B[0m \u001B[0mplt1\u001B[0m\u001B[1;33m.\u001B[0m\u001B[0mtitle\u001B[0m\u001B[1;33m(\u001B[0m\u001B[1;34m'Robos segun marcas'\u001B[0m\u001B[1;33m)\u001B[0m\u001B[1;33m\u001B[0m\u001B[1;33m\u001B[0m\u001B[0m\n\u001B[0;32m     13\u001B[0m \u001B[0mplt1\u001B[0m\u001B[1;33m.\u001B[0m\u001B[0mxlabel\u001B[0m\u001B[1;33m(\u001B[0m\u001B[1;34m'marcas'\u001B[0m\u001B[1;33m)\u001B[0m\u001B[1;33m\u001B[0m\u001B[1;33m\u001B[0m\u001B[0m\n",
      "\u001B[1;32m~\\.conda\\envs\\TP4\\lib\\site-packages\\matplotlib\\pyplot.py\u001B[0m in \u001B[0;36mbar\u001B[1;34m(x, height, width, bottom, align, data, **kwargs)\u001B[0m\n\u001B[0;32m   2485\u001B[0m         \u001B[0mx\u001B[0m\u001B[1;33m,\u001B[0m \u001B[0mheight\u001B[0m\u001B[1;33m,\u001B[0m \u001B[0mwidth\u001B[0m\u001B[1;33m=\u001B[0m\u001B[1;36m0.8\u001B[0m\u001B[1;33m,\u001B[0m \u001B[0mbottom\u001B[0m\u001B[1;33m=\u001B[0m\u001B[1;32mNone\u001B[0m\u001B[1;33m,\u001B[0m \u001B[1;33m*\u001B[0m\u001B[1;33m,\u001B[0m \u001B[0malign\u001B[0m\u001B[1;33m=\u001B[0m\u001B[1;34m'center'\u001B[0m\u001B[1;33m,\u001B[0m\u001B[1;33m\u001B[0m\u001B[1;33m\u001B[0m\u001B[0m\n\u001B[0;32m   2486\u001B[0m         data=None, **kwargs):\n\u001B[1;32m-> 2487\u001B[1;33m     return gca().bar(\n\u001B[0m\u001B[0;32m   2488\u001B[0m         \u001B[0mx\u001B[0m\u001B[1;33m,\u001B[0m \u001B[0mheight\u001B[0m\u001B[1;33m,\u001B[0m \u001B[0mwidth\u001B[0m\u001B[1;33m=\u001B[0m\u001B[0mwidth\u001B[0m\u001B[1;33m,\u001B[0m \u001B[0mbottom\u001B[0m\u001B[1;33m=\u001B[0m\u001B[0mbottom\u001B[0m\u001B[1;33m,\u001B[0m \u001B[0malign\u001B[0m\u001B[1;33m=\u001B[0m\u001B[0malign\u001B[0m\u001B[1;33m,\u001B[0m\u001B[1;33m\u001B[0m\u001B[1;33m\u001B[0m\u001B[0m\n\u001B[0;32m   2489\u001B[0m         **({\"data\": data} if data is not None else {}), **kwargs)\n",
      "\u001B[1;32m~\\.conda\\envs\\TP4\\lib\\site-packages\\matplotlib\\__init__.py\u001B[0m in \u001B[0;36minner\u001B[1;34m(ax, data, *args, **kwargs)\u001B[0m\n\u001B[0;32m   1445\u001B[0m     \u001B[1;32mdef\u001B[0m \u001B[0minner\u001B[0m\u001B[1;33m(\u001B[0m\u001B[0max\u001B[0m\u001B[1;33m,\u001B[0m \u001B[1;33m*\u001B[0m\u001B[0margs\u001B[0m\u001B[1;33m,\u001B[0m \u001B[0mdata\u001B[0m\u001B[1;33m=\u001B[0m\u001B[1;32mNone\u001B[0m\u001B[1;33m,\u001B[0m \u001B[1;33m**\u001B[0m\u001B[0mkwargs\u001B[0m\u001B[1;33m)\u001B[0m\u001B[1;33m:\u001B[0m\u001B[1;33m\u001B[0m\u001B[1;33m\u001B[0m\u001B[0m\n\u001B[0;32m   1446\u001B[0m         \u001B[1;32mif\u001B[0m \u001B[0mdata\u001B[0m \u001B[1;32mis\u001B[0m \u001B[1;32mNone\u001B[0m\u001B[1;33m:\u001B[0m\u001B[1;33m\u001B[0m\u001B[1;33m\u001B[0m\u001B[0m\n\u001B[1;32m-> 1447\u001B[1;33m             \u001B[1;32mreturn\u001B[0m \u001B[0mfunc\u001B[0m\u001B[1;33m(\u001B[0m\u001B[0max\u001B[0m\u001B[1;33m,\u001B[0m \u001B[1;33m*\u001B[0m\u001B[0mmap\u001B[0m\u001B[1;33m(\u001B[0m\u001B[0msanitize_sequence\u001B[0m\u001B[1;33m,\u001B[0m \u001B[0margs\u001B[0m\u001B[1;33m)\u001B[0m\u001B[1;33m,\u001B[0m \u001B[1;33m**\u001B[0m\u001B[0mkwargs\u001B[0m\u001B[1;33m)\u001B[0m\u001B[1;33m\u001B[0m\u001B[1;33m\u001B[0m\u001B[0m\n\u001B[0m\u001B[0;32m   1448\u001B[0m \u001B[1;33m\u001B[0m\u001B[0m\n\u001B[0;32m   1449\u001B[0m         \u001B[0mbound\u001B[0m \u001B[1;33m=\u001B[0m \u001B[0mnew_sig\u001B[0m\u001B[1;33m.\u001B[0m\u001B[0mbind\u001B[0m\u001B[1;33m(\u001B[0m\u001B[0max\u001B[0m\u001B[1;33m,\u001B[0m \u001B[1;33m*\u001B[0m\u001B[0margs\u001B[0m\u001B[1;33m,\u001B[0m \u001B[1;33m**\u001B[0m\u001B[0mkwargs\u001B[0m\u001B[1;33m)\u001B[0m\u001B[1;33m\u001B[0m\u001B[1;33m\u001B[0m\u001B[0m\n",
      "\u001B[1;32m~\\.conda\\envs\\TP4\\lib\\site-packages\\matplotlib\\axes\\_axes.py\u001B[0m in \u001B[0;36mbar\u001B[1;34m(self, x, height, width, bottom, align, **kwargs)\u001B[0m\n\u001B[0;32m   2428\u001B[0m                 \u001B[0myerr\u001B[0m \u001B[1;33m=\u001B[0m \u001B[0mself\u001B[0m\u001B[1;33m.\u001B[0m\u001B[0m_convert_dx\u001B[0m\u001B[1;33m(\u001B[0m\u001B[0myerr\u001B[0m\u001B[1;33m,\u001B[0m \u001B[0my0\u001B[0m\u001B[1;33m,\u001B[0m \u001B[0my\u001B[0m\u001B[1;33m,\u001B[0m \u001B[0mself\u001B[0m\u001B[1;33m.\u001B[0m\u001B[0mconvert_yunits\u001B[0m\u001B[1;33m)\u001B[0m\u001B[1;33m\u001B[0m\u001B[1;33m\u001B[0m\u001B[0m\n\u001B[0;32m   2429\u001B[0m \u001B[1;33m\u001B[0m\u001B[0m\n\u001B[1;32m-> 2430\u001B[1;33m         x, height, width, y, linewidth = np.broadcast_arrays(\n\u001B[0m\u001B[0;32m   2431\u001B[0m             \u001B[1;31m# Make args iterable too.\u001B[0m\u001B[1;33m\u001B[0m\u001B[1;33m\u001B[0m\u001B[1;33m\u001B[0m\u001B[0m\n\u001B[0;32m   2432\u001B[0m             np.atleast_1d(x), height, width, y, linewidth)\n",
      "\u001B[1;32m<__array_function__ internals>\u001B[0m in \u001B[0;36mbroadcast_arrays\u001B[1;34m(*args, **kwargs)\u001B[0m\n",
      "\u001B[1;32m~\\.conda\\envs\\TP4\\lib\\site-packages\\numpy\\lib\\stride_tricks.py\u001B[0m in \u001B[0;36mbroadcast_arrays\u001B[1;34m(subok, *args)\u001B[0m\n\u001B[0;32m    536\u001B[0m     \u001B[0margs\u001B[0m \u001B[1;33m=\u001B[0m \u001B[1;33m[\u001B[0m\u001B[0mnp\u001B[0m\u001B[1;33m.\u001B[0m\u001B[0marray\u001B[0m\u001B[1;33m(\u001B[0m\u001B[0m_m\u001B[0m\u001B[1;33m,\u001B[0m \u001B[0mcopy\u001B[0m\u001B[1;33m=\u001B[0m\u001B[1;32mFalse\u001B[0m\u001B[1;33m,\u001B[0m \u001B[0msubok\u001B[0m\u001B[1;33m=\u001B[0m\u001B[0msubok\u001B[0m\u001B[1;33m)\u001B[0m \u001B[1;32mfor\u001B[0m \u001B[0m_m\u001B[0m \u001B[1;32min\u001B[0m \u001B[0margs\u001B[0m\u001B[1;33m]\u001B[0m\u001B[1;33m\u001B[0m\u001B[1;33m\u001B[0m\u001B[0m\n\u001B[0;32m    537\u001B[0m \u001B[1;33m\u001B[0m\u001B[0m\n\u001B[1;32m--> 538\u001B[1;33m     \u001B[0mshape\u001B[0m \u001B[1;33m=\u001B[0m \u001B[0m_broadcast_shape\u001B[0m\u001B[1;33m(\u001B[0m\u001B[1;33m*\u001B[0m\u001B[0margs\u001B[0m\u001B[1;33m)\u001B[0m\u001B[1;33m\u001B[0m\u001B[1;33m\u001B[0m\u001B[0m\n\u001B[0m\u001B[0;32m    539\u001B[0m \u001B[1;33m\u001B[0m\u001B[0m\n\u001B[0;32m    540\u001B[0m     \u001B[1;32mif\u001B[0m \u001B[0mall\u001B[0m\u001B[1;33m(\u001B[0m\u001B[0marray\u001B[0m\u001B[1;33m.\u001B[0m\u001B[0mshape\u001B[0m \u001B[1;33m==\u001B[0m \u001B[0mshape\u001B[0m \u001B[1;32mfor\u001B[0m \u001B[0marray\u001B[0m \u001B[1;32min\u001B[0m \u001B[0margs\u001B[0m\u001B[1;33m)\u001B[0m\u001B[1;33m:\u001B[0m\u001B[1;33m\u001B[0m\u001B[1;33m\u001B[0m\u001B[0m\n",
      "\u001B[1;32m~\\.conda\\envs\\TP4\\lib\\site-packages\\numpy\\lib\\stride_tricks.py\u001B[0m in \u001B[0;36m_broadcast_shape\u001B[1;34m(*args)\u001B[0m\n\u001B[0;32m    418\u001B[0m     \u001B[1;31m# use the old-iterator because np.nditer does not handle size 0 arrays\u001B[0m\u001B[1;33m\u001B[0m\u001B[1;33m\u001B[0m\u001B[1;33m\u001B[0m\u001B[0m\n\u001B[0;32m    419\u001B[0m     \u001B[1;31m# consistently\u001B[0m\u001B[1;33m\u001B[0m\u001B[1;33m\u001B[0m\u001B[1;33m\u001B[0m\u001B[0m\n\u001B[1;32m--> 420\u001B[1;33m     \u001B[0mb\u001B[0m \u001B[1;33m=\u001B[0m \u001B[0mnp\u001B[0m\u001B[1;33m.\u001B[0m\u001B[0mbroadcast\u001B[0m\u001B[1;33m(\u001B[0m\u001B[1;33m*\u001B[0m\u001B[0margs\u001B[0m\u001B[1;33m[\u001B[0m\u001B[1;33m:\u001B[0m\u001B[1;36m32\u001B[0m\u001B[1;33m]\u001B[0m\u001B[1;33m)\u001B[0m\u001B[1;33m\u001B[0m\u001B[1;33m\u001B[0m\u001B[0m\n\u001B[0m\u001B[0;32m    421\u001B[0m     \u001B[1;31m# unfortunately, it cannot handle 32 or more arguments directly\u001B[0m\u001B[1;33m\u001B[0m\u001B[1;33m\u001B[0m\u001B[1;33m\u001B[0m\u001B[0m\n\u001B[0;32m    422\u001B[0m     \u001B[1;32mfor\u001B[0m \u001B[0mpos\u001B[0m \u001B[1;32min\u001B[0m \u001B[0mrange\u001B[0m\u001B[1;33m(\u001B[0m\u001B[1;36m32\u001B[0m\u001B[1;33m,\u001B[0m \u001B[0mlen\u001B[0m\u001B[1;33m(\u001B[0m\u001B[0margs\u001B[0m\u001B[1;33m)\u001B[0m\u001B[1;33m,\u001B[0m \u001B[1;36m31\u001B[0m\u001B[1;33m)\u001B[0m\u001B[1;33m:\u001B[0m\u001B[1;33m\u001B[0m\u001B[1;33m\u001B[0m\u001B[0m\n",
      "\u001B[1;31mValueError\u001B[0m: shape mismatch: objects cannot be broadcast to a single shape"
     ]
    },
    {
     "data": {
      "text/plain": "<Figure size 432x288 with 1 Axes>",
      "image/png": "[encoded data removed]"
     },
     "metadata": {
      "needs_background": "light"
     },
     "output_type": "display_data"
    }
   ],
   "source": [
    "import pandas as pd\n",
    "import matplotlib.pyplot as plt1\n",
    "import matplotlib.pyplot as plt2\n",
    "\n",
    "data = pd.read_csv(\"../data/dnrpa-robos-recuperos-autos-202103.csv\")\n",
    "# data = data.loc[0:100]\n",
    "x = data['automotor_marca_descripcion'].unique()\n",
    "y = data['automotor_marca_codigo'].value_counts().tolist()  # lo que estoy contando seria la cantidad de robos que tiene cada marca\n",
    "y.reverse() # muestre de menor a mayor\n",
    "\n",
    "plt1.bar(x,y)\n",
    "plt1.title('Robos segun marcas')\n",
    "plt1.xlabel('marcas')\n",
    "plt1.ylabel('cantidad de robos')\n",
    "plt1.show()\n",
    "\n",
    "plt2.plot(x,y)\n",
    "plt2.title('Robos segun marcas')\n",
    "plt2.xlabel('marcas')\n",
    "plt2.ylabel('cantidad de robos')\n",
    "plt2.show()"
   ],
   "metadata": {
    "collapsed": false,
    "pycharm": {
     "name": "#%%\n"
    }
   }
  },
  {
   "cell_type": "raw",
   "source": [],
   "metadata": {
    "collapsed": false,
    "pycharm": {
     "name": "#%% raw"
    }
   }
  }
 ],
 "metadata": {
  "kernelspec": {
   "name": "pycharm-2b4dd66",
   "language": "python",
   "display_name": "PyCharm (TP4)"
  },
  "language_info": {
   "codemirror_mode": {
    "name": "ipython",
    "version": 2
   },
   "file_extension": ".py",
   "mimetype": "text/x-python",
   "name": "python",
   "nbconvert_exporter": "python",
   "pygments_lexer": "ipython2",
   "version": "2.7.6"
  }
 },
 "nbformat": 4,
 "nbformat_minor": 0
}