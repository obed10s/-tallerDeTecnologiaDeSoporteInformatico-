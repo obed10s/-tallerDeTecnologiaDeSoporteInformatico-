{
 "cells": [
  {
   "cell_type": "code",
   "execution_count": 120,
   "metadata": {
    "collapsed": true
   },
   "outputs": [],
   "source": [
    "import pandas as pd\n",
    "\n",
    "dfCasos = pd.read_csv(\"../data/casos.csv\",sep=\",\",engine=\"python\")\n",
    "dfComunas = pd.read_csv(\"../data/comunas.csv\",sep=\",\",engine=\"python\")\n",
    "dfBarrios = pd.read_csv(\"../data/barrios.csv\",sep=\",\",engine=\"python\")"
   ]
  },
  {
   "cell_type": "code",
   "execution_count": 121,
   "outputs": [
    {
     "name": "stdout",
     "output_type": "stream",
     "text": [
      "           barrio    perimetro          area\n",
      "12  SAN CRISTOBAL  5987.226479  2.043711e+06\n",
      "24      BALVANERA  8375.821811  4.342280e+06\n"
     ]
    }
   ],
   "source": [
    "# ejercicio 1\n",
    "condicion = dfBarrios.comuna == 3\n",
    "df1= dfBarrios[[\"barrio\",\"perimetro\",\"area\"]]\n",
    "print(df1[condicion])"
   ],
   "metadata": {
    "collapsed": false,
    "pycharm": {
     "name": "#%%\n"
    }
   }
  },
  {
   "cell_type": "code",
   "execution_count": 122,
   "outputs": [
    {
     "name": "stdout",
     "output_type": "stream",
     "text": [
      "               barrio     perimetro          area\n",
      "4             ALMAGRO   8537.901368  4.050752e+06\n",
      "5           CABALLITO  10990.964471  6.851029e+06\n",
      "9              FLORES  15772.439510  8.590784e+06\n",
      "13              BOEDO   6602.510266  2.609851e+06\n",
      "17          MATADEROS  11124.635792  7.398179e+06\n",
      "18       VILLA LUGANO  15057.468389  9.296142e+06\n",
      "30  PARQUE AVELLANEDA  10165.614028  4.732708e+06\n",
      "31   PARQUE CHACABUCO   8406.914321  3.832117e+06\n",
      "34    VILLA RIACHUELO  10596.826739  4.232596e+06\n",
      "35      VILLA SOLDATI  12441.695877  8.688164e+06\n",
      "38            LINIERS   9256.927321  4.374419e+06\n"
     ]
    }
   ],
   "source": [
    "# ejercicio 2\n",
    "condicion = (dfBarrios.comuna > 4) & (dfBarrios.comuna < 10)\n",
    "df1= dfBarrios[[\"barrio\",\"perimetro\",\"area\"]]\n",
    "print(df1[condicion])"
   ],
   "metadata": {
    "collapsed": false,
    "pycharm": {
     "name": "#%%\n"
    }
   }
  },
  {
   "cell_type": "code",
   "execution_count": 123,
   "outputs": [
    {
     "name": "stdout",
     "output_type": "stream",
     "text": [
      "      PERIMETRO          AREA\n",
      "2  18332.037457  1.265656e+07\n"
     ]
    }
   ],
   "source": [
    "#ejercicio 3\n",
    "condicion= dfBarrios.index == 5\n",
    "df1=dfBarrios[\"comuna\"]\n",
    "comuna=dfBarrios.comuna[condicion]\n",
    "condicion= dfComunas.ID==int(comuna)\n",
    "df1= dfComunas[[\"PERIMETRO\",\"AREA\"]]\n",
    "print(df1[condicion])"
   ],
   "metadata": {
    "collapsed": false,
    "pycharm": {
     "name": "#%%\n"
    }
   }
  },
  {
   "cell_type": "code",
   "execution_count": 124,
   "outputs": [
    {
     "name": "stdout",
     "output_type": "stream",
     "text": [
      "4     12.0\n",
      "6     15.0\n",
      "7     13.0\n",
      "11     3.0\n",
      "13     8.0\n",
      "Name: COMUNAS, dtype: float64\n"
     ]
    }
   ],
   "source": [
    "#ejercicio 4\n",
    "condicion= (dfBarrios.barrio.str.startswith(\"v\")) | (dfBarrios.barrio.str.startswith(\"V\"))\n",
    "df1=dfBarrios[\"comuna\"]\n",
    "condicion = dfComunas.ID.isin(list(df1[condicion]))\n",
    "print(dfComunas.COMUNAS[condicion])"
   ],
   "metadata": {
    "collapsed": false,
    "pycharm": {
     "name": "#%%\n"
    }
   }
  },
  {
   "cell_type": "code",
   "execution_count": 125,
   "outputs": [
    {
     "name": "stdout",
     "output_type": "stream",
     "text": [
      "0     6.317265e+06\n",
      "1     6.851029e+06\n",
      "2     1.265656e+07\n",
      "3     1.412004e+07\n",
      "4     1.557093e+07\n",
      "5     1.584587e+07\n",
      "6     1.432290e+07\n",
      "7     1.471321e+07\n",
      "8     2.168464e+07\n",
      "9     6.660603e+06\n",
      "10    1.242290e+07\n",
      "11    6.385991e+06\n",
      "12    1.650531e+07\n",
      "13    2.221690e+07\n",
      "14    1.779457e+07\n",
      "Name: AREA, dtype: float64\n"
     ]
    }
   ],
   "source": [
    "#ejercicio 5\n",
    "condicion= dfBarrios.barrio.str.contains(\"A\")\n",
    "df1=dfBarrios[\"comuna\"]\n",
    "condicion = dfComunas.ID.isin(list(df1[condicion]))\n",
    "print(dfComunas.AREA[condicion])"
   ],
   "metadata": {
    "collapsed": false,
    "pycharm": {
     "name": "#%%\n"
    }
   }
  },
  {
   "cell_type": "code",
   "execution_count": 126,
   "outputs": [
    {
     "name": "stdout",
     "output_type": "stream",
     "text": [
      "5    22126.531858\n",
      "Name: PERIMETRO, dtype: float64\n"
     ]
    }
   ],
   "source": [
    "#ejercicio 6\n",
    "condicion= dfCasos.index == 15\n",
    "comuna=dfCasos.comuna[condicion]\n",
    "condicion= dfComunas.ID==int(comuna)\n",
    "print(dfComunas.PERIMETRO[condicion])"
   ],
   "metadata": {
    "collapsed": false,
    "pycharm": {
     "name": "#%%\n"
    }
   }
  },
  {
   "cell_type": "code",
   "execution_count": 127,
   "outputs": [
    {
     "name": "stdout",
     "output_type": "stream",
     "text": [
      "0     False\n",
      "1     False\n",
      "2     False\n",
      "3     False\n",
      "4     False\n",
      "5     False\n",
      "6     False\n",
      "7     False\n",
      "8     False\n",
      "9     False\n",
      "10    False\n",
      "11    False\n",
      "12    False\n",
      "13    False\n",
      "14    False\n",
      "15    False\n",
      "16    False\n",
      "17    False\n",
      "18    False\n",
      "19    False\n",
      "20    False\n",
      "21    False\n",
      "22    False\n",
      "23    False\n",
      "24    False\n",
      "25    False\n",
      "26    False\n",
      "27    False\n",
      "28    False\n",
      "29    False\n",
      "30    False\n",
      "31    False\n",
      "32    False\n",
      "33    False\n",
      "34    False\n",
      "35    False\n",
      "36    False\n",
      "37    False\n",
      "38    False\n",
      "39    False\n",
      "40    False\n",
      "41    False\n",
      "42    False\n",
      "43    False\n",
      "44    False\n",
      "45    False\n",
      "46    False\n",
      "47    False\n",
      "Name: barrio, dtype: bool\n",
      "Series([], Name: area, dtype: float64)\n"
     ]
    }
   ],
   "source": [
    "#ejercicio 7\n",
    "condicion= dfCasos.index == 7\n",
    "barrio=dfCasos.barrio[condicion]\n",
    "barrio = barrio.tolist()[0]\n",
    "condicion= dfBarrios.barrio == barrio\n",
    "df1= dfBarrios[[\"area\"]]\n",
    "print(df1[condicion])"
   ],
   "metadata": {
    "collapsed": false,
    "pycharm": {
     "name": "#%%\n"
    }
   }
  },
  {
   "cell_type": "code",
   "execution_count": 129,
   "outputs": [
    {
     "name": "stdout",
     "output_type": "stream",
     "text": [
      "               barrio  comuna\n",
      "0           CHACARITA      15\n",
      "1            PATERNAL      15\n",
      "2        VILLA CRESPO      15\n",
      "3    VILLA DEL PARQUE      11\n",
      "4             ALMAGRO       5\n",
      "5           CABALLITO       6\n",
      "6    VILLA SANTA RITA      11\n",
      "7        MONTE CASTRO      10\n",
      "8          VILLA REAL      10\n",
      "9              FLORES       7\n",
      "10           FLORESTA      10\n",
      "11       CONSTITUCION       1\n",
      "12      SAN CRISTOBAL       3\n",
      "13              BOEDO       5\n",
      "14    VELEZ SARSFIELD      10\n",
      "15         VILLA LURO      10\n",
      "16   PARQUE PATRICIOS       4\n",
      "17          MATADEROS       9\n",
      "18       VILLA LUGANO       8\n",
      "19          SAN TELMO       1\n",
      "20           SAAVEDRA      12\n",
      "21            COGHLAN      12\n",
      "22      VILLA URQUIZA      12\n",
      "23         COLEGIALES      13\n",
      "24          BALVANERA       3\n",
      "25  VILLA GRAL. MITRE      11\n",
      "26        PARQUE CHAS      15\n",
      "27          AGRONOMIA      15\n",
      "28      VILLA ORTUZAR      15\n",
      "29           BARRACAS       4\n",
      "30  PARQUE AVELLANEDA       9\n",
      "31   PARQUE CHACABUCO       7\n",
      "32      NUEVA POMPEYA       4\n",
      "33            PALERMO      14\n",
      "34    VILLA RIACHUELO       8\n",
      "35      VILLA SOLDATI       8\n",
      "36   VILLA PUEYRREDON      12\n",
      "37       VILLA DEVOTO      11\n",
      "38            LINIERS       9\n",
      "39          VERSALLES      10\n",
      "40      PUERTO MADERO       1\n",
      "41          MONSERRAT       1\n",
      "42        SAN NICOLAS       1\n",
      "43           BELGRANO      13\n",
      "44           RECOLETA       2\n",
      "45             RETIRO       1\n",
      "46              NUÑEZ      13\n",
      "47               BOCA       4\n"
     ]
    }
   ],
   "source": [
    "#ejercicio 8\n",
    "condicion=(dfCasos.numero_de_caso>6000000)&(dfCasos.numero_de_caso<7000000)\n",
    "casos=dfCasos.barrio[condicion]\n",
    "condicion = dfBarrios.barrio.isin(casos)\n",
    "df1= dfBarrios[[\"barrio\",\"comuna\"]]\n",
    "print(df1[condicion])\n",
    "print(len(df1[condicion]))"
   ],
   "metadata": {
    "collapsed": false,
    "pycharm": {
     "name": "#%%\n"
    }
   }
  },
  {
   "cell_type": "code",
   "execution_count": null,
   "outputs": [],
   "source": [
    "#ejercicio 9\n",
    "condicion=dfBarrios.index == 3\n",
    "barrio = dfBarrios.barrio[condicion].tolist()[0]\n",
    "condicion = dfCasos.barrio == barrio\n",
    "df1= dfCasos[[\"genero\",\"edad\"]]\n",
    "print(df1[condicion])"
   ],
   "metadata": {
    "collapsed": false,
    "pycharm": {
     "name": "#%%\n"
    }
   }
  },
  {
   "cell_type": "code",
   "execution_count": null,
   "outputs": [],
   "source": [
    "#ejercicio 10\n",
    "condicion=dfCasos.tipo_contagio == \"En Investigación\"\n",
    "casos=dfCasos.barrio[condicion]\n",
    "condicion = dfBarrios.barrio.isin(casos)\n",
    "df1= dfBarrios[[\"barrio\"]]\n",
    "print(df1[condicion])"
   ],
   "metadata": {
    "collapsed": false,
    "pycharm": {
     "name": "#%%\n"
    }
   }
  },
  {
   "cell_type": "code",
   "execution_count": null,
   "outputs": [],
   "source": [
    "#ejercicio 11\n",
    "condicion=dfCasos.edad <18\n",
    "casos=dfCasos.barrio[condicion]\n",
    "condicion = dfBarrios.barrio.isin(casos)\n",
    "df1= dfBarrios[[\"barrio\"]]\n",
    "print(df1[condicion])\n",
    "print(len(df1[condicion]))"
   ],
   "metadata": {
    "collapsed": false,
    "pycharm": {
     "name": "#%%\n"
    }
   }
  },
  {
   "cell_type": "code",
   "execution_count": null,
   "outputs": [],
   "source": [
    "#ejercicio 12\n",
    "condicion= dfBarrios.index <=4\n",
    "barrios = dfBarrios.barrio[condicion]\n",
    "condicion= dfCasos.barrio.isin(barrios)\n",
    "df1 = dfCasos[[\"numero_de_caso\",\"genero\",\"edad\"]]\n",
    "print(df1[condicion])"
   ],
   "metadata": {
    "collapsed": false,
    "pycharm": {
     "name": "#%%\n"
    }
   }
  },
  {
   "cell_type": "code",
   "execution_count": null,
   "outputs": [],
   "source": [
    "#ejercicio 13\n",
    "condicion= ~dfCasos.comuna.isin([13])\n",
    "df1 = dfCasos[[\"numero_de_caso\",\"genero\",\"edad\"]]\n",
    "print(df1[condicion])"
   ],
   "metadata": {
    "collapsed": false,
    "pycharm": {
     "name": "#%%\n"
    }
   }
  }
 ],
 "metadata": {
  "kernelspec": {
   "display_name": "Python 3",
   "language": "python",
   "name": "python3"
  },
  "language_info": {
   "codemirror_mode": {
    "name": "ipython",
    "version": 2
   },
   "file_extension": ".py",
   "mimetype": "text/x-python",
   "name": "python",
   "nbconvert_exporter": "python",
   "pygments_lexer": "ipython2",
   "version": "2.7.6"
  }
 },
 "nbformat": 4,
 "nbformat_minor": 0
}