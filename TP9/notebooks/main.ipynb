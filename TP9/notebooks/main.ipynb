{
 "cells": [
  {
   "cell_type": "code",
   "execution_count": null,
   "metadata": {
    "collapsed": true
   },
   "outputs": [],
   "source": [
    "import pandas as pd\n",
    "import seaborn as sb\n",
    "\n",
    "def eliminarPesos(valor):\n",
    "    valor = str(valor)\n",
    "    if valor != 'nan':\n",
    "        valor = valor.replace(\"$\",\"\")\n",
    "        valor = valor.replace(\".\",\"\")\n",
    "        return int(valor)\n",
    "\n",
    "\n",
    "df1 = pd.read_csv(\"../data/sanciones-operadores.csv\",sep=\",\",engine=\"python\" )\n",
    "df1 = df1.loc[0:2500]\n",
    "df1[\"Multa (UT)\"] = df1[\"Multa (UT)\"].apply(eliminarPesos)\n",
    "grafico = sb.pairplot(df1,hue=\"Empresa\",palette=\"Spectral\",height=5)"
   ]
  },
  {
   "cell_type": "markdown",
   "source": [
    "A partir de los gráficos podemos observar que la empresa\n",
    "con mayores reclamos es telecom seguida de telefónica y los picos de reclamos\n",
    "sucedieron en 2017 y 2018. Además, estas empresas son las que recibieron multas\n",
    "de mayor monto por lo tanto se puede deducir que recibieron sanciones más graves, aunque en su mayoría las multas\n",
    "no son elevadas.\n",
    "\n",
    "\n",
    "Aclaración: Para realizar los gráficos utilizamos las primeras 2000 lineas del csv."
   ],
   "metadata": {
    "collapsed": false
   }
  }
 ],
 "metadata": {
  "kernelspec": {
   "display_name": "Python 3",
   "language": "python",
   "name": "python3"
  },
  "language_info": {
   "codemirror_mode": {
    "name": "ipython",
    "version": 2
   },
   "file_extension": ".py",
   "mimetype": "text/x-python",
   "name": "python",
   "nbconvert_exporter": "python",
   "pygments_lexer": "ipython2",
   "version": "2.7.6"
  }
 },
 "nbformat": 4,
 "nbformat_minor": 0
}