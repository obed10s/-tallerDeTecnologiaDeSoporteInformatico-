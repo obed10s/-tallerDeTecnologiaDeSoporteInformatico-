{
 "cells": [
  {
   "cell_type": "code",
   "execution_count": null,
   "metadata": {
    "collapsed": true
   },
   "outputs": [],
   "source": [
    "import pandas as pd\n",
    "import matplotlib.pyplot as plt1\n",
    "import matplotlib.pyplot as plt2\n",
    "import matplotlib.pyplot as plt3\n",
    "import numpy as np\n",
    "\n",
    "data = pd.read_csv()\n",
    "\n",
    "# grafico 1\n",
    "\n",
    "x = data['Cual de las siguientes bebidas es la que mas te gusta?'].unique()\n",
    "y = data['Cual de las siguientes bebidas es la que mas te gusta?'].value_counts().unique()\n",
    "\n",
    "plt1.title('Bebidas preferidas')\n",
    "plt1.bar(x,y)\n",
    "plt1.xlabel('Bebidas')\n",
    "plt1.ylabel('Cantidad')\n",
    "\n",
    "# grafico 2\n",
    "\n",
    "x = data['Que endulzante elegis que tenga la bebida?'].unique()\n",
    "y = data['Que endulzante elegis que tenga la bebida?'].value_counts().unique()\n",
    "\n",
    "plt2.title('Endulzantes preferidos')\n",
    "plt2.bar(x,y)\n",
    "plt2.xlabel('Endulzantes')\n",
    "plt2.ylabel('Cantidad')\n",
    "\n",
    "# grafico 3\n",
    "\n",
    "x = data['Cual de las siguientes bebidas es la que mas te gusta?'].unique()\n",
    "y = data['Semanalmente, cuantos litros consumis de la bebida elegida? (Ingrese solamente el numero)'] # ver como calcular el promedio\n",
    "\n",
    "plt3.title('Promedio de litros semanales por bebida preferida')\n",
    "plt3.bar(x,y)\n",
    "plt3.xlabel('Bebidas')\n",
    "plt3.ylabel('Cantidad litros (promedio)')"
   ]
  },
  {
   "cell_type": "markdown",
   "source": [
    "# Primer grafico, cantidad por bebida\n",
    "# Segundo, cantidad por endulzante\n",
    "# Tercero, promedio de litros semanales por bebida\n",
    "\n",
    "### link del form: https://forms.gle/KFouvYVeLXbfiDVn8"
   ],
   "metadata": {
    "collapsed": false
   }
  }
 ],
 "metadata": {
  "kernelspec": {
   "display_name": "Python 3",
   "language": "python",
   "name": "python3"
  },
  "language_info": {
   "codemirror_mode": {
    "name": "ipython",
    "version": 2
   },
   "file_extension": ".py",
   "mimetype": "text/x-python",
   "name": "python",
   "nbconvert_exporter": "python",
   "pygments_lexer": "ipython2",
   "version": "2.7.6"
  }
 },
 "nbformat": 4,
 "nbformat_minor": 0
}