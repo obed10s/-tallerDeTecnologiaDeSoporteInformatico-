{
 "cells": [
  {
   "cell_type": "code",
   "execution_count": 2,
   "metadata": {
    "collapsed": true
   },
   "outputs": [
    {
     "data": {
      "text/plain": "Text(0, 0.5, 'Cantidad')"
     },
     "execution_count": 2,
     "metadata": {},
     "output_type": "execute_result"
    },
    {
     "data": {
      "text/plain": "<Figure size 432x288 with 1 Axes>",
      "image/png": "[encoded data removed]"
     },
     "metadata": {
      "needs_background": "light"
     },
     "output_type": "display_data"
    }
   ],
   "source": [
    "import pandas as pd\n",
    "import matplotlib.pyplot as plt1\n",
    "import matplotlib.pyplot as plt2\n",
    "import matplotlib.pyplot as plt3\n",
    "import main as funciones\n",
    "\n",
    "\n",
    "data = pd.read_csv(\"../data/asd - Respuestas de formulario 1.csv\")\n",
    "# grafico 1\n",
    "\n",
    "x = data['Cual de las siguientes bebidas es la que mas te gusta?'].unique()\n",
    "y = data['Cual de las siguientes bebidas es la que mas te gusta?'].value_counts()\n",
    "\n",
    "plt1.title('Bebidas preferidas')\n",
    "plt1.bar(x,y)\n",
    "plt1.xlabel('Bebidas')\n",
    "plt1.ylabel('Cantidad')"
   ]
  },
  {
   "cell_type": "code",
   "execution_count": 3,
   "outputs": [
    {
     "data": {
      "text/plain": "Text(0, 0.5, 'Cantidad')"
     },
     "execution_count": 3,
     "metadata": {},
     "output_type": "execute_result"
    },
    {
     "data": {
      "text/plain": "<Figure size 432x288 with 1 Axes>",
      "image/png": "[encoded data removed]"
     },
     "metadata": {
      "needs_background": "light"
     },
     "output_type": "display_data"
    }
   ],
   "source": [
    "# grafico 2\n",
    "\n",
    "x2 = data['Que endulzante elegis que tenga la bebida?'].unique()\n",
    "y2 = data['Que endulzante elegis que tenga la bebida?'].value_counts()\n",
    "\n",
    "plt2.title('Endulzantes preferidos')\n",
    "plt2.bar(x2,y2)\n",
    "plt2.xlabel('Endulzantes')\n",
    "plt2.ylabel('Cantidad')\n"
   ],
   "metadata": {
    "collapsed": false,
    "pycharm": {
     "name": "#%%\n"
    }
   }
  },
  {
   "cell_type": "code",
   "execution_count": 10,
   "outputs": [
    {
     "name": "stdout",
     "output_type": "stream",
     "text": [
      "17/06/2021 18:03:37\n",
      "17/06/2021 18:11:24\n",
      "17/06/2021 19:26:15\n",
      "17/06/2021 19:26:43\n",
      "17/06/2021 20:32:14\n",
      "17/06/2021 21:34:22\n",
      "17/06/2021 22:04:55\n",
      "17/06/2021 23:03:23\n",
      "18/06/2021 0:16:39\n",
      "18/06/2021 0:17:52\n",
      "18/06/2021 0:20:48\n",
      "18/06/2021 0:21:44\n",
      "18/06/2021 9:13:05\n",
      "18/06/2021 9:13:29\n",
      "18/06/2021 9:13:43\n",
      "23/06/2021 19:56:16\n",
      "24/06/2021 8:27:52\n",
      "24/06/2021 8:33:15\n",
      "24/06/2021 9:07:57\n",
      "24/06/2021 9:08:21\n",
      "24/06/2021 9:08:34\n",
      "24/06/2021 9:23:15\n",
      "24/06/2021 9:25:45\n",
      "24/06/2021 9:47:17\n",
      "24/06/2021 10:31:16\n",
      "24/06/2021 13:52:16\n",
      "Soda (agua con gas)\n",
      "Bichi-cola\n",
      "Agua\n",
      "Agua\n",
      "Fanta\n",
      "Coca-cola (linea cola)\n",
      "Agua\n",
      "Jugo clight\n",
      "Agua\n",
      "Agua\n",
      "Agua\n",
      "bichy cola\n",
      "Sprite\n",
      "Pepsi (linea cola)\n",
      "bichi\n",
      "Coca-cola (linea cola)\n",
      "Agua saborizada\n",
      "Agua\n",
      "Agua\n",
      "Bichi-cola\n",
      "Coca-cola (linea cola)\n",
      "Agua\n",
      "Coca-cola (linea cola)\n",
      "Sangre fermentada\n",
      "Agua tonica\n",
      "Agua saborizada\n",
      "No aplica\n",
      "Azucar\n",
      "No aplica\n",
      "No aplica\n",
      "Azucar\n",
      "Azucar\n",
      "Edulcorante\n",
      "No aplica\n",
      "Edulcorante\n",
      "No aplica\n",
      "No aplica\n",
      "Edulcorante\n",
      "No aplica\n",
      "Edulcorante\n",
      "Edulcorante\n",
      "Azucar\n",
      "Edulcorante\n",
      "Azucar\n",
      "No aplica\n",
      "Azucar\n",
      "No aplica\n",
      "Azucar\n",
      "Azucar\n",
      "Edulcorante\n",
      "No aplica\n",
      "No aplica\n",
      "10\n",
      "10\n",
      "21\n",
      "10\n",
      "0 😭😭😭\n",
      "0.5\n",
      "7\n",
      "28\n",
      "24\n",
      "1.5\n",
      "20\n",
      "3\n",
      "1\n",
      "0\n",
      "20\n",
      "3\n",
      "28\n",
      "4\n",
      "10\n",
      "10\n",
      "2\n",
      "nan\n",
      "1\n",
      "5\n",
      "2\n",
      "1\n"
     ]
    },
    {
     "data": {
      "text/plain": "   Marca temporal Cual de las siguientes bebidas es la que mas te gusta?  \\\n0            None                                               None       \n1            None                                               None       \n2            None                                               None       \n3            None                                               None       \n4            None                                               None       \n5            None                                               None       \n6            None                                               None       \n7            None                                               None       \n8            None                                               None       \n9            None                                               None       \n10           None                                               None       \n11           None                                               None       \n12           None                                               None       \n13           None                                               None       \n14           None                                               None       \n15           None                                               None       \n16           None                                               None       \n17           None                                               None       \n18           None                                               None       \n19           None                                               None       \n20           None                                               None       \n21           None                                               None       \n22           None                                               None       \n23           None                                               None       \n24           None                                               None       \n25           None                                               None       \n\n   Que endulzante elegis que tenga la bebida?  \\\n0                                        None   \n1                                        None   \n2                                        None   \n3                                        None   \n4                                        None   \n5                                        None   \n6                                        None   \n7                                        None   \n8                                        None   \n9                                        None   \n10                                       None   \n11                                       None   \n12                                       None   \n13                                       None   \n14                                       None   \n15                                       None   \n16                                       None   \n17                                       None   \n18                                       None   \n19                                       None   \n20                                       None   \n21                                       None   \n22                                       None   \n23                                       None   \n24                                       None   \n25                                       None   \n\n   Semanalmente, cuantos litros consumis de la bebida elegida? (Ingrese solamente el numero)  \n0                                                None                                         \n1                                                None                                         \n2                                                None                                         \n3                                                None                                         \n4                                                None                                         \n5                                                None                                         \n6                                                None                                         \n7                                                None                                         \n8                                                None                                         \n9                                                None                                         \n10                                               None                                         \n11                                               None                                         \n12                                               None                                         \n13                                               None                                         \n14                                               None                                         \n15                                               None                                         \n16                                               None                                         \n17                                               None                                         \n18                                               None                                         \n19                                               None                                         \n20                                               None                                         \n21                                               None                                         \n22                                               None                                         \n23                                               None                                         \n24                                               None                                         \n25                                               None                                         ",
      "text/html": "<div>\n<style scoped>\n    .dataframe tbody tr th:only-of-type {\n        vertical-align: middle;\n    }\n\n    .dataframe tbody tr th {\n        vertical-align: top;\n    }\n\n    .dataframe thead th {\n        text-align: right;\n    }\n</style>\n<table border=\"1\" class=\"dataframe\">\n  <thead>\n    <tr style=\"text-align: right;\">\n      <th></th>\n      <th>Marca temporal</th>\n      <th>Cual de las siguientes bebidas es la que mas te gusta?</th>\n      <th>Que endulzante elegis que tenga la bebida?</th>\n      <th>Semanalmente, cuantos litros consumis de la bebida elegida? (Ingrese solamente el numero)</th>\n    </tr>\n  </thead>\n  <tbody>\n    <tr>\n      <th>0</th>\n      <td>None</td>\n      <td>None</td>\n      <td>None</td>\n      <td>None</td>\n    </tr>\n    <tr>\n      <th>1</th>\n      <td>None</td>\n      <td>None</td>\n      <td>None</td>\n      <td>None</td>\n    </tr>\n    <tr>\n      <th>2</th>\n      <td>None</td>\n      <td>None</td>\n      <td>None</td>\n      <td>None</td>\n    </tr>\n    <tr>\n      <th>3</th>\n      <td>None</td>\n      <td>None</td>\n      <td>None</td>\n      <td>None</td>\n    </tr>\n    <tr>\n      <th>4</th>\n      <td>None</td>\n      <td>None</td>\n      <td>None</td>\n      <td>None</td>\n    </tr>\n    <tr>\n      <th>5</th>\n      <td>None</td>\n      <td>None</td>\n      <td>None</td>\n      <td>None</td>\n    </tr>\n    <tr>\n      <th>6</th>\n      <td>None</td>\n      <td>None</td>\n      <td>None</td>\n      <td>None</td>\n    </tr>\n    <tr>\n      <th>7</th>\n      <td>None</td>\n      <td>None</td>\n      <td>None</td>\n      <td>None</td>\n    </tr>\n    <tr>\n      <th>8</th>\n      <td>None</td>\n      <td>None</td>\n      <td>None</td>\n      <td>None</td>\n    </tr>\n    <tr>\n      <th>9</th>\n      <td>None</td>\n      <td>None</td>\n      <td>None</td>\n      <td>None</td>\n    </tr>\n    <tr>\n      <th>10</th>\n      <td>None</td>\n      <td>None</td>\n      <td>None</td>\n      <td>None</td>\n    </tr>\n    <tr>\n      <th>11</th>\n      <td>None</td>\n      <td>None</td>\n      <td>None</td>\n      <td>None</td>\n    </tr>\n    <tr>\n      <th>12</th>\n      <td>None</td>\n      <td>None</td>\n      <td>None</td>\n      <td>None</td>\n    </tr>\n    <tr>\n      <th>13</th>\n      <td>None</td>\n      <td>None</td>\n      <td>None</td>\n      <td>None</td>\n    </tr>\n    <tr>\n      <th>14</th>\n      <td>None</td>\n      <td>None</td>\n      <td>None</td>\n      <td>None</td>\n    </tr>\n    <tr>\n      <th>15</th>\n      <td>None</td>\n      <td>None</td>\n      <td>None</td>\n      <td>None</td>\n    </tr>\n    <tr>\n      <th>16</th>\n      <td>None</td>\n      <td>None</td>\n      <td>None</td>\n      <td>None</td>\n    </tr>\n    <tr>\n      <th>17</th>\n      <td>None</td>\n      <td>None</td>\n      <td>None</td>\n      <td>None</td>\n    </tr>\n    <tr>\n      <th>18</th>\n      <td>None</td>\n      <td>None</td>\n      <td>None</td>\n      <td>None</td>\n    </tr>\n    <tr>\n      <th>19</th>\n      <td>None</td>\n      <td>None</td>\n      <td>None</td>\n      <td>None</td>\n    </tr>\n    <tr>\n      <th>20</th>\n      <td>None</td>\n      <td>None</td>\n      <td>None</td>\n      <td>None</td>\n    </tr>\n    <tr>\n      <th>21</th>\n      <td>None</td>\n      <td>None</td>\n      <td>None</td>\n      <td>None</td>\n    </tr>\n    <tr>\n      <th>22</th>\n      <td>None</td>\n      <td>None</td>\n      <td>None</td>\n      <td>None</td>\n    </tr>\n    <tr>\n      <th>23</th>\n      <td>None</td>\n      <td>None</td>\n      <td>None</td>\n      <td>None</td>\n    </tr>\n    <tr>\n      <th>24</th>\n      <td>None</td>\n      <td>None</td>\n      <td>None</td>\n      <td>None</td>\n    </tr>\n    <tr>\n      <th>25</th>\n      <td>None</td>\n      <td>None</td>\n      <td>None</td>\n      <td>None</td>\n    </tr>\n  </tbody>\n</table>\n</div>"
     },
     "execution_count": 10,
     "metadata": {},
     "output_type": "execute_result"
    }
   ],
   "source": [
    "def armarDicc():\n",
    "    d = {}\n",
    "    for i in x:\n",
    "        d[\"i\"] = []\n",
    "    return d\n",
    "\n",
    "def sacarPromedio():\n",
    "    dicc = armarDicc()\n",
    "    for bebida, row in x, data:\n",
    "        if bebida == row[\"Cual de las siguientes bebidas es la que mas te gusta?\"]: \n",
    "            dicc[bebida].push(row[\"Semanalmente, cuantos litros consumis de la bebida elegida? (Ingrese solamente el numero)\"])\n",
    "    \n",
    "    for i in dicc:\n",
    "        suma = 0\n",
    "        for val in i:\n",
    "            suma += i\n",
    "        y.push(suma / len(i))\n",
    "    \n",
    "# grafico 3\n",
    "#\n",
    "x = data['Cual de las siguientes bebidas es la que mas te gusta?'].unique()\n",
    "# y = data['Semanalmente, cuantos litros consumis de la bebida elegida? (Ingrese solamente el numero)'] # ver como calcular el promedio\n",
    "#\n",
    "y = []\n",
    "\n",
    "sacarPromedio()\n",
    "\n",
    "\n",
    "# plt3.title('Promedio de litros semanales por bebida preferida')\n",
    "# plt3.bar(x,y)\n",
    "# plt3.xlabel('Bebidas')\n",
    "# plt3.ylabel('Cantidad litros (promedio)')"
   ],
   "metadata": {
    "collapsed": false,
    "pycharm": {
     "name": "#%%\n"
    }
   }
  },
  {
   "cell_type": "markdown",
   "source": [
    "##### Primer grafico, cantidad por bebida\n",
    "##### Segundo, cantidad por endulzante\n",
    "##### Tercero, promedio de litros semanales por bebida\n",
    "\n",
    "### link del form: https://forms.gle/KFouvYVeLXbfiDVn8"
   ],
   "metadata": {
    "collapsed": false
   }
  }
 ],
 "metadata": {
  "kernelspec": {
   "display_name": "Python 3",
   "language": "python",
   "name": "python3"
  },
  "language_info": {
   "codemirror_mode": {
    "name": "ipython",
    "version": 2
   },
   "file_extension": ".py",
   "mimetype": "text/x-python",
   "name": "python",
   "nbconvert_exporter": "python",
   "pygments_lexer": "ipython2",
   "version": "2.7.6"
  }
 },
 "nbformat": 4,
 "nbformat_minor": 0
}