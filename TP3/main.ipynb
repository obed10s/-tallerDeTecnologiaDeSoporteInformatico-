#%%

# jupyter notebook --NotebookApp.iopub_data_rate_limit=1.0e10


import pandas as pd

df = pd.read_csv("ejemplo.csv")

dfIndexado = df.set_index("id")

dfSinVacios = dfIndexado.dropna()

dfSinDuplicados = dfSinVacios.drop_duplicates()

df1 = dfSinDuplicados.iloc[0:3000]

index1 = len(dfSinDuplicados) - 2001
index2 = len(dfSinDuplicados) - 1

df2 = dfSinDuplicados.iloc[index1: index2]

dfFinal = pd.concat([df1,df2])

dfFinal.to_csv("nuevo.csv")

#%%