{
 "cells": [
  {
   "cell_type": "code",
   "execution_count": 5,
   "outputs": [],
   "source": [
    "# jupyter notebook --NotebookApp.iopub_data_rate_limit=1.0e10\n",
    "\n",
    "\n",
    "import pandas as pd\n",
    "\n",
    "df = pd.read_csv(\"../data/ejemplo.csv\")\n",
    "\n",
    "dfIndexado = df.set_index(\"id\")\n",
    "\n",
    "dfSinVacios = dfIndexado.dropna()\n",
    "\n",
    "dfSinDuplicados = dfSinVacios.drop_duplicates()\n",
    "\n",
    "df1 = dfSinDuplicados.iloc[0:3000]\n",
    "\n",
    "index1 = len(dfSinDuplicados) - 2001\n",
    "index2 = len(dfSinDuplicados) - 1\n",
    "\n",
    "df2 = dfSinDuplicados.iloc[index1: index2]\n",
    "\n",
    "dfFinal = pd.concat([df1,df2])\n",
    "\n",
    "dfFinal.to_csv(\"../data/nuevo.csv\")"
   ],
   "metadata": {
    "collapsed": false,
    "pycharm": {
     "name": "#%%\n"
    }
   }
  },
  {
   "cell_type": "code",
   "execution_count": 5,
   "metadata": {
    "collapsed": true
   },
   "outputs": [],
   "source": []
  }
 ],
 "metadata": {
  "kernelspec": {
   "display_name": "Python 3",
   "language": "python",
   "name": "python3"
  },
  "language_info": {
   "codemirror_mode": {
    "name": "ipython",
    "version": 2
   },
   "file_extension": ".py",
   "mimetype": "text/x-python",
   "name": "python",
   "nbconvert_exporter": "python",
   "pygments_lexer": "ipython2",
   "version": "2.7.6"
  }
 },
 "nbformat": 4,
 "nbformat_minor": 0
}