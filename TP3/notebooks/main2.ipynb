{
 "cells": [
  {
   "cell_type": "code",
   "execution_count": 13,
   "outputs": [
    {
     "name": "stdout",
     "output_type": "stream",
     "text": [
      "               altura_fin_derecha  altura_fin_izquierda  \\\n",
      "id                                                        \n",
      "1401401030290                 628                   629   \n",
      "200701003180                    0                     0   \n",
      "200701010520                  899                   900   \n",
      "202801006110                 2699                  2700   \n",
      "\n",
      "               altura_inicio_derecha  altura_inicio_izquierda categoria  \\\n",
      "id                                                                        \n",
      "1401401030290                    600                      601     CALLE   \n",
      "200701003180                       0                        0     CALLE   \n",
      "200701010520                     801                      802     CALLE   \n",
      "202801006110                       0                        0     CALLE   \n",
      "\n",
      "               departamento_id departamento_nombre fuente  \\\n",
      "id                                                          \n",
      "1401401030290            14014             Capital  INDEC   \n",
      "200701003180              2007            Comuna 1  INDEC   \n",
      "200701010520              2007            Comuna 1  INDEC   \n",
      "202801006110              2028            Comuna 4  INDEC   \n",
      "\n",
      "               localidad_censal_id          localidad_censal_nombre  \\\n",
      "id                                                                    \n",
      "1401401030290             14014010                          Córdoba   \n",
      "200701003180               2000010  Ciudad Autónoma de Buenos Aires   \n",
      "200701010520               2000010  Ciudad Autónoma de Buenos Aires   \n",
      "202801006110               2000010  Ciudad Autónoma de Buenos Aires   \n",
      "\n",
      "                    nombre  provincia_id                 provincia_nombre  \n",
      "id                                                                         \n",
      "1401401030290  MANUEL PINO            14                          Córdoba  \n",
      "200701003180     CALLE S N             2  Ciudad Autónoma de Buenos Aires  \n",
      "200701010520   SGTO CABRAL             2  Ciudad Autónoma de Buenos Aires  \n",
      "202801006110          GUAL             2  Ciudad Autónoma de Buenos Aires  \n",
      "['altura_fin_derecha', 'altura_fin_izquierda', 'altura_inicio_derecha', 'altura_inicio_izquierda', 'categoria', 'departamento_id', 'departamento_nombre', 'fuente', 'localidad_censal_id', 'localidad_censal_nombre', 'nombre', 'provincia_id', 'provincia_nombre']\n",
      "dhajksdflsdf id\n",
      "1401401025420    CALLE\n",
      "1401401030290    CALLE\n",
      "200701001665        AV\n",
      "200701001985     CALLE\n",
      "200701000290     CALLE\n",
      "                 ...  \n",
      "9401502002595    CALLE\n",
      "9401502002600    CALLE\n",
      "9401502002605    CALLE\n",
      "9401502002610    CALLE\n",
      "9401502002615    CALLE\n",
      "Name: categoria, Length: 111085, dtype: object\n"
     ]
    }
   ],
   "source": [
    "# jupyter notebook --NotebookApp.iopub_data_rate_limit=1.0e10\n",
    "\n",
    "\n",
    "import pandas as pd\n",
    "\n",
    "df = pd.read_csv(\"../data/ejemplo.csv\")\n",
    "\n",
    "dfIndexado = df.set_index(\"id\")\n",
    "\n",
    "dfSinVacios = dfIndexado.dropna()\n",
    "\n",
    "dfSinDuplicados = dfSinVacios.drop_duplicates()\n",
    "\n",
    "df1 = dfSinDuplicados.iloc[0:3000]\n",
    "\n",
    "index1 = len(dfSinDuplicados) - 2001\n",
    "index2 = len(dfSinDuplicados) - 1\n",
    "\n",
    "df2 = dfSinDuplicados.iloc[index1: index2]\n",
    "\n",
    "dfFinal = pd.concat([df1,df2])\n",
    "\n",
    "print(df1.iloc[[1,5,12,36]])\n",
    "\n",
    "print(list(dfSinDuplicados.columns))\n",
    "\n",
    "print(dfSinDuplicados['categoria'])\n",
    "\n",
    "dfFinal.to_csv(\"../data/nuevo.csv\")"
   ],
   "metadata": {
    "collapsed": false,
    "pycharm": {
     "name": "#%%\n"
    }
   }
  },
  {
   "cell_type": "code",
   "execution_count": 13,
   "metadata": {
    "collapsed": true
   },
   "outputs": [],
   "source": []
  }
 ],
 "metadata": {
  "kernelspec": {
   "display_name": "Python 3",
   "language": "python",
   "name": "python3"
  },
  "language_info": {
   "codemirror_mode": {
    "name": "ipython",
    "version": 2
   },
   "file_extension": ".py",
   "mimetype": "text/x-python",
   "name": "python",
   "nbconvert_exporter": "python",
   "pygments_lexer": "ipython2",
   "version": "2.7.6"
  }
 },
 "nbformat": 4,
 "nbformat_minor": 0
}