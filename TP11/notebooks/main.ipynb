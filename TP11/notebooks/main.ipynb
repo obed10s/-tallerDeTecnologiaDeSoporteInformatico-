{
 "cells": [
  {
   "cell_type": "code",
   "execution_count": null,
   "metadata": {
    "collapsed": true
   },
   "outputs": [],
   "source": [
    "import pandas as pd\n",
    "import seaborn as sb\n",
    "\n",
    "\n",
    "def encontrarMaxima(df):\n",
    "    for indice, valor in df[\"media\"].items():\n",
    "        if valor == df[\"media\"].max():\n",
    "            return df[\"mes\"][indice], df[\"año\"][indice]\n",
    "\n",
    "def encontrarMinima(df):\n",
    "    for indice, valor in df[\"media\"].items():\n",
    "        if valor == df[\"media\"].min():\n",
    "            return df[\"mes\"][indice], df[\"año\"][indice]\n",
    "\n",
    "\n",
    "\n",
    "df1 = pd.read_csv(\"../data/historico_temperaturas.csv\",sep=\",\",engine=\"python\" )\n",
    "print(encontrarMaxima(df1))\n",
    "print(encontrarMinima(df1))\n",
    "grafico = sb.pairplot(df1,hue=\"año\",palette=\"Spectral\",height=5)"
   ]
  },
  {
   "cell_type": "markdown",
   "source": [
    "\n",
    "1- Se puede observar que el mes con la mayor temperatura media es diciembre del año 2013, asi\n",
    "como el mes con la menor es julio del 1992.\n",
    "\n",
    "2-A partir del gráfico podemos realizar dos observaciones principales. La primera es que a lo largo de\n",
    "los años los valores máximos y mínimos anuales se alejaron y con esto aumentó la media. Además, se puede\n",
    "notar que en los años 2000 hubo una excepción donde se registraron las mayores\n",
    "máximas, mínimas y medias.\n"
   ],
   "metadata": {
    "collapsed": false
   }
  }
 ],
 "metadata": {
  "kernelspec": {
   "display_name": "Python 3",
   "language": "python",
   "name": "python3"
  },
  "language_info": {
   "codemirror_mode": {
    "name": "ipython",
    "version": 2
   },
   "file_extension": ".py",
   "mimetype": "text/x-python",
   "name": "python",
   "nbconvert_exporter": "python",
   "pygments_lexer": "ipython2",
   "version": "2.7.6"
  }
 },
 "nbformat": 4,
 "nbformat_minor": 0
}